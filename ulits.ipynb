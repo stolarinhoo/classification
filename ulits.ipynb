{
 "cells": [
  {
   "cell_type": "code",
   "execution_count": 5,
   "id": "b0071d96",
   "metadata": {},
   "outputs": [],
   "source": [
    "# Import packages\n",
    "import laspy\n",
    "import joblib\n",
    "import time\n",
    "import numpy as np\n",
    "import matplotlib.pyplot as plt\n",
    "from numpy import ndarray\n",
    "from laspy import LasData\n",
    "from sklearn.cluster import KMeans\n",
    "from datetime import datetime"
   ]
  },
  {
   "cell_type": "code",
   "execution_count": 7,
   "id": "36e03d56",
   "metadata": {},
   "outputs": [],
   "source": [
    "# Constants\n",
    "SOURCE_FILEPATH = \"./data/dane.las\""
   ]
  },
  {
   "cell_type": "code",
   "execution_count": null,
   "id": "c0d531a2",
   "metadata": {},
   "outputs": [],
   "source": []
  },
  {
   "cell_type": "code",
   "execution_count": null,
   "id": "a3fc185b",
   "metadata": {},
   "outputs": [],
   "source": [
    "# Create test data\n",
    "\n",
    "NEW_FILENAME = \"new_test_file\"\n",
    "\n",
    "# 0. Creating some dummy data\n",
    "my_data_xx, my_data_yy = np.meshgrid(np.linspace(-20, 20, 15), np.linspace(-20, 20, 15))\n",
    "my_data_zz = my_data_xx ** 2 + 0.25 * my_data_yy ** 2\n",
    "my_data = np.hstack((my_data_xx.reshape((-1, 1)), my_data_yy.reshape((-1, 1)), my_data_zz.reshape((-1, 1))))\n",
    "\n",
    "# 1. Create a new header\n",
    "header = laspy.LasHeader(point_format=3, version=\"1.2\")\n",
    "header.add_extra_dim(laspy.ExtraBytesParams(name=\"random\", type=np.int32))\n",
    "header.offsets = np.min(my_data, axis=0)\n",
    "header.scales = np.array([0.1, 0.1, 0.1])\n",
    "\n",
    "# 2. Create a Las\n",
    "las = laspy.LasData(header)\n",
    "\n",
    "las.x = my_data[:, 0]\n",
    "las.y = my_data[:, 1]\n",
    "las.z = my_data[:, 2]\n",
    "las.random = np.random.randint(-1503, 6546, len(las.points), np.int32)\n",
    "\n",
    "las.write(f\"./data/{NEW_FILENAME}.las\")\n"
   ]
  },
  {
   "cell_type": "code",
   "execution_count": 12,
   "id": "5e58f21b",
   "metadata": {},
   "outputs": [],
   "source": [
    "# Read las file\n",
    "def read_las(filepath) -> LasData:\n",
    "    las_data = laspy.read(filepath)\n",
    "    return las_data\n",
    "\n",
    "# Prepare las data\n",
    "def prepare_data(las: LasData, dimensions: list) -> ndarray:\n",
    "    data = None\n",
    "    if len(dimensions) == 1:\n",
    "        data = np.array(las[dimensions[0]])\n",
    "    elif len(dimensions) > 1:        \n",
    "        attributes_array = [las[dim] for dim in dimensions]    \n",
    "        data = np.stack(attributes_array, -1)        \n",
    "    return data\n",
    "\n"
   ]
  },
  {
   "cell_type": "code",
   "execution_count": 11,
   "id": "e5260571",
   "metadata": {},
   "outputs": [
    {
     "data": {
      "text/plain": [
       "['X',\n",
       " 'Y',\n",
       " 'Z',\n",
       " 'intensity',\n",
       " 'return_number',\n",
       " 'number_of_returns',\n",
       " 'scan_direction_flag',\n",
       " 'edge_of_flight_line',\n",
       " 'classification',\n",
       " 'synthetic',\n",
       " 'key_point',\n",
       " 'withheld',\n",
       " 'scan_angle_rank',\n",
       " 'user_data',\n",
       " 'point_source_id',\n",
       " 'gps_time',\n",
       " 'red',\n",
       " 'green',\n",
       " 'blue']"
      ]
     },
     "execution_count": 11,
     "metadata": {},
     "output_type": "execute_result"
    }
   ],
   "source": [
    "# Get dimension names\n",
    "def get_dimension_names(las: LasData):\n",
    "    return list(las.point_format.dimension_names)\n",
    "\n",
    "\n",
    "las = read_las(SOURCE_FILEPATH)\n",
    "get_dimension_names(las)\n"
   ]
  },
  {
   "cell_type": "code",
   "execution_count": 6,
   "id": "8ca5bff1",
   "metadata": {},
   "outputs": [],
   "source": [
    "# Displaying chart method\n",
    "\n",
    "def display_chart(x: list, y: list, title: str, x_label_name: str, y_label_name: str, save: bool = False):\n",
    "    plt.plot(x, y)\n",
    "    plt.title(title)\n",
    "    plt.xlabel(x_label_name)\n",
    "    plt.ylabel(y_label_name)\n",
    "    save if plt.savefig(f\"{title} {str(datetime.now().strftime('%Y-%m-%d_%H-%M-%S'))}\") else do_nothing()\n",
    "    plt.show()\n",
    "\n",
    "\n",
    "def do_nothing():\n",
    "    pass"
   ]
  },
  {
   "cell_type": "code",
   "execution_count": 13,
   "id": "8b77f522",
   "metadata": {},
   "outputs": [
    {
     "name": "stdout",
     "output_type": "stream",
     "text": [
      "Cluster: 3\n",
      "Cluster: 4\n"
     ]
    },
    {
     "data": {
      "image/png": "[encoded data removed]",
      "text/plain": [
       "<Figure size 432x288 with 1 Axes>"
      ]
     },
     "metadata": {
      "needs_background": "light"
     },
     "output_type": "display_data"
    }
   ],
   "source": [
    "# Testing optimal dimensions in kmeans approach\n",
    "\n",
    "def elbow_method(las_filepath: str, attributes: list, min_clusters: int, max_clusters: int, step: int) -> None:\n",
    "    las = read_las(las_filepath)\n",
    "    data = prepare_data(las, attributes)\n",
    "\n",
    "    cs = []\n",
    "\n",
    "    for i in range(min_clusters, max_clusters + 1, step):\n",
    "        print(f\"Cluster: {i}\")\n",
    "        kmeans = KMeans(n_clusters=i, init='k-means++', max_iter=300, n_init=\"auto\", random_state=0)\n",
    "        kmeans.fit(data)\n",
    "        cs.append(kmeans.inertia_)\n",
    "\n",
    "    display_chart(x=list(range(min_clusters, max_clusters + 1, step)), y=cs,\n",
    "                  title=f\"The Elbow Method {''.join(attributes)}\",\n",
    "                  x_label_name=\"Number of clusters\", y_label_name=\"CS\", save=True)\n",
    "\n",
    "\n",
    "\n",
    "attributes = [\"z\", \"intensity\", \"red\", \"green\", \"blue\"]\n",
    "elbow_method(SOURCE_FILEPATH, attributes, 3, 4, 1)\n"
   ]
  },
  {
   "cell_type": "code",
   "execution_count": null,
   "id": "eeec1ce1",
   "metadata": {},
   "outputs": [],
   "source": []
  }
 ],
 "metadata": {
  "kernelspec": {
   "display_name": "karolina_cz",
   "language": "python",
   "name": "karolina_cz"
  },
  "language_info": {
   "codemirror_mode": {
    "name": "ipython",
    "version": 3
   },
   "file_extension": ".py",
   "mimetype": "text/x-python",
   "name": "python",
   "nbconvert_exporter": "python",
   "pygments_lexer": "ipython3",
   "version": "3.11.3"
  }
 },
 "nbformat": 4,
 "nbformat_minor": 5
}
