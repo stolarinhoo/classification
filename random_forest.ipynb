{
 "cells": [
  {
   "cell_type": "code",
   "execution_count": 14,
   "id": "e489b2a5",
   "metadata": {},
   "outputs": [],
   "source": [
    "# Import packages\n",
    "import laspy\n",
    "import joblib\n",
    "import time\n",
    "import numpy as np\n",
    "from numpy import ndarray\n",
    "from laspy import LasData\n",
    "from sklearn.ensemble import RandomForestClassifier\n"
   ]
  },
  {
   "cell_type": "code",
   "execution_count": 12,
   "id": "7bd318b8",
   "metadata": {},
   "outputs": [],
   "source": [
    "# Constants\n",
    "SOURCE_FILEPATH = \"./data/dane.las\"\n",
    "NEW_FILEPATH = \"./result_files/{}.laz\"\n",
    "DIMENSIONS = [\"X\", \"Y\", \"Z\"]\n",
    "CLASSIFICATION_DIMENSION = [\"classification\"]\n",
    "\n",
    "RF_MODEL_NAME = \"test_random_forest_4\""
   ]
  },
  {
   "cell_type": "code",
   "execution_count": 3,
   "id": "a63720f6",
   "metadata": {},
   "outputs": [],
   "source": [
    "# Read las file\n",
    "def read_las(filepath) -> LasData:\n",
    "    las_data = laspy.read(filepath)\n",
    "    return las_data\n",
    "\n",
    "# Prepare las data\n",
    "def prepare_data(las: LasData, dimensions: list) -> ndarray:\n",
    "    data = None\n",
    "    if len(dimensions) == 1:\n",
    "        data = np.array(las[dimensions[0]])\n",
    "    elif len(dimensions) > 1:        \n",
    "        attributes_array = [las[dim] for dim in dimensions]    \n",
    "        data = np.stack(attributes_array, -1)        \n",
    "    return data\n",
    "\n",
    "# Get dimension names\n",
    "def get_dimension_names(las: LasData) -> list:\n",
    "    return list(las.point_format.dimension_names)"
   ]
  },
  {
   "cell_type": "code",
   "execution_count": 4,
   "id": "b4a1491c",
   "metadata": {},
   "outputs": [
    {
     "name": "stdout",
     "output_type": "stream",
     "text": [
      " * * *   Train dataset   * * *\n",
      "(39546810, 3)\n",
      "[[-1319929  -456535  -170181]\n",
      " [ -828422 -1019935  -167989]\n",
      " [ -828247 -1019953  -167709]\n",
      " ...\n",
      " [ 1126510   150659    70739]\n",
      " [ 1125823   151581    70619]\n",
      " [ 1126279   150951    70799]]\n",
      "\n",
      " * * *   Train labels   * * *\n",
      "(39546810,)\n",
      "[2 3 3 ... 5 5 5]\n"
     ]
    }
   ],
   "source": [
    "# Read file\n",
    "las = read_las(SOURCE_FILEPATH)\n",
    "\n",
    "X_train = prepare_data(las, DIMENSIONS)\n",
    "y_train = prepare_data(las, CLASSIFICATION_DIMENSION)\n",
    "print(\" * * *   Train dataset   * * *\")\n",
    "print(X_train.shape)\n",
    "print(X_train)\n",
    "print(\"\\n * * *   Train labels   * * *\")\n",
    "print(y_train.shape)\n",
    "print(y_train)\n"
   ]
  },
  {
   "cell_type": "code",
   "execution_count": 5,
   "id": "4494ce78",
   "metadata": {},
   "outputs": [],
   "source": [
    "# Initialzie random forest model\n",
    "rf = RandomForestClassifier(n_estimators=5, max_depth=5, n_jobs=-2, random_state=42)\n",
    "rf.verbose = 2"
   ]
  },
  {
   "cell_type": "code",
   "execution_count": 6,
   "id": "17edb122",
   "metadata": {},
   "outputs": [
    {
     "name": "stderr",
     "output_type": "stream",
     "text": [
      "[Parallel(n_jobs=-2)]: Using backend ThreadingBackend with 23 concurrent workers.\n"
     ]
    },
    {
     "name": "stdout",
     "output_type": "stream",
     "text": [
      "building tree 1 of 5\n",
      "building tree 2 of 5\n",
      "building tree 3 of 5\n",
      "building tree 4 of 5\n",
      "building tree 5 of 5\n"
     ]
    },
    {
     "name": "stderr",
     "output_type": "stream",
     "text": [
      "[Parallel(n_jobs=-2)]: Done   2 out of   5 | elapsed:   35.9s remaining:   53.9s\n",
      "[Parallel(n_jobs=-2)]: Done   5 out of   5 | elapsed:   39.5s remaining:    0.0s\n",
      "[Parallel(n_jobs=-2)]: Done   5 out of   5 | elapsed:   39.5s finished\n"
     ]
    },
    {
     "data": {
      "text/html": [
       "<style>#sk-container-id-1 {color: black;background-color: white;}#sk-container-id-1 pre{padding: 0;}#sk-container-id-1 div.sk-toggleable {background-color: white;}#sk-container-id-1 label.sk-toggleable__label {cursor: pointer;display: block;width: 100%;margin-bottom: 0;padding: 0.3em;box-sizing: border-box;text-align: center;}#sk-container-id-1 label.sk-toggleable__label-arrow:before {content: \"▸\";float: left;margin-right: 0.25em;color: #696969;}#sk-container-id-1 label.sk-toggleable__label-arrow:hover:before {color: black;}#sk-container-id-1 div.sk-estimator:hover label.sk-toggleable__label-arrow:before {color: black;}#sk-container-id-1 div.sk-toggleable__content {max-height: 0;max-width: 0;overflow: hidden;text-align: left;background-color: #f0f8ff;}#sk-container-id-1 div.sk-toggleable__content pre {margin: 0.2em;color: black;border-radius: 0.25em;background-color: #f0f8ff;}#sk-container-id-1 input.sk-toggleable__control:checked~div.sk-toggleable__content {max-height: 200px;max-width: 100%;overflow: auto;}#sk-container-id-1 input.sk-toggleable__control:checked~label.sk-toggleable__label-arrow:before {content: \"▾\";}#sk-container-id-1 div.sk-estimator input.sk-toggleable__control:checked~label.sk-toggleable__label {background-color: #d4ebff;}#sk-container-id-1 div.sk-label input.sk-toggleable__control:checked~label.sk-toggleable__label {background-color: #d4ebff;}#sk-container-id-1 input.sk-hidden--visually {border: 0;clip: rect(1px 1px 1px 1px);clip: rect(1px, 1px, 1px, 1px);height: 1px;margin: -1px;overflow: hidden;padding: 0;position: absolute;width: 1px;}#sk-container-id-1 div.sk-estimator {font-family: monospace;background-color: #f0f8ff;border: 1px dotted black;border-radius: 0.25em;box-sizing: border-box;margin-bottom: 0.5em;}#sk-container-id-1 div.sk-estimator:hover {background-color: #d4ebff;}#sk-container-id-1 div.sk-parallel-item::after {content: \"\";width: 100%;border-bottom: 1px solid gray;flex-grow: 1;}#sk-container-id-1 div.sk-label:hover label.sk-toggleable__label {background-color: #d4ebff;}#sk-container-id-1 div.sk-serial::before {content: \"\";position: absolute;border-left: 1px solid gray;box-sizing: border-box;top: 0;bottom: 0;left: 50%;z-index: 0;}#sk-container-id-1 div.sk-serial {display: flex;flex-direction: column;align-items: center;background-color: white;padding-right: 0.2em;padding-left: 0.2em;position: relative;}#sk-container-id-1 div.sk-item {position: relative;z-index: 1;}#sk-container-id-1 div.sk-parallel {display: flex;align-items: stretch;justify-content: center;background-color: white;position: relative;}#sk-container-id-1 div.sk-item::before, #sk-container-id-1 div.sk-parallel-item::before {content: \"\";position: absolute;border-left: 1px solid gray;box-sizing: border-box;top: 0;bottom: 0;left: 50%;z-index: -1;}#sk-container-id-1 div.sk-parallel-item {display: flex;flex-direction: column;z-index: 1;position: relative;background-color: white;}#sk-container-id-1 div.sk-parallel-item:first-child::after {align-self: flex-end;width: 50%;}#sk-container-id-1 div.sk-parallel-item:last-child::after {align-self: flex-start;width: 50%;}#sk-container-id-1 div.sk-parallel-item:only-child::after {width: 0;}#sk-container-id-1 div.sk-dashed-wrapped {border: 1px dashed gray;margin: 0 0.4em 0.5em 0.4em;box-sizing: border-box;padding-bottom: 0.4em;background-color: white;}#sk-container-id-1 div.sk-label label {font-family: monospace;font-weight: bold;display: inline-block;line-height: 1.2em;}#sk-container-id-1 div.sk-label-container {text-align: center;}#sk-container-id-1 div.sk-container {/* jupyter's `normalize.less` sets `[hidden] { display: none; }` but bootstrap.min.css set `[hidden] { display: none !important; }` so we also need the `!important` here to be able to override the default hidden behavior on the sphinx rendered scikit-learn.org. See: https://github.com/scikit-learn/scikit-learn/issues/21755 */display: inline-block !important;position: relative;}#sk-container-id-1 div.sk-text-repr-fallback {display: none;}</style><div id=\"sk-container-id-1\" class=\"sk-top-container\"><div class=\"sk-text-repr-fallback\"><pre>RandomForestClassifier(max_depth=5, n_estimators=5, n_jobs=-2, random_state=42,\n",
       "                       verbose=2)</pre><b>In a Jupyter environment, please rerun this cell to show the HTML representation or trust the notebook. <br />On GitHub, the HTML representation is unable to render, please try loading this page with nbviewer.org.</b></div><div class=\"sk-container\" hidden><div class=\"sk-item\"><div class=\"sk-estimator sk-toggleable\"><input class=\"sk-toggleable__control sk-hidden--visually\" id=\"sk-estimator-id-1\" type=\"checkbox\" checked><label for=\"sk-estimator-id-1\" class=\"sk-toggleable__label sk-toggleable__label-arrow\">RandomForestClassifier</label><div class=\"sk-toggleable__content\"><pre>RandomForestClassifier(max_depth=5, n_estimators=5, n_jobs=-2, random_state=42,\n",
       "                       verbose=2)</pre></div></div></div></div></div>"
      ],
      "text/plain": [
       "RandomForestClassifier(max_depth=5, n_estimators=5, n_jobs=-2, random_state=42,\n",
       "                       verbose=2)"
      ]
     },
     "execution_count": 6,
     "metadata": {},
     "output_type": "execute_result"
    }
   ],
   "source": [
    "# Learn Random Forest model\n",
    "rf.fit(X_train, y_train)"
   ]
  },
  {
   "cell_type": "code",
   "execution_count": 7,
   "id": "28011636",
   "metadata": {},
   "outputs": [
    {
     "data": {
      "text/plain": [
       "['./models/test_random_forest_4.joblib']"
      ]
     },
     "execution_count": 7,
     "metadata": {},
     "output_type": "execute_result"
    }
   ],
   "source": [
    "# Save model\n",
    "\n",
    "\n",
    "joblib.dump(rf, f'./models/{RF_MODEL_NAME}.joblib')"
   ]
  },
  {
   "cell_type": "code",
   "execution_count": 8,
   "id": "e12efc08",
   "metadata": {},
   "outputs": [],
   "source": [
    "# Load learned Random Forest model\n",
    "rf_loaded = joblib.load(f\"./models/{RF_MODEL_NAME}.joblib\")"
   ]
  },
  {
   "cell_type": "code",
   "execution_count": 9,
   "id": "7aeda84e",
   "metadata": {},
   "outputs": [
    {
     "data": {
      "text/plain": [
       "array([[-1319929,  -456535,  -170181],\n",
       "       [ -828422, -1019935,  -167989],\n",
       "       [ -828247, -1019953,  -167709],\n",
       "       ...,\n",
       "       [ 1126510,   150659,    70739],\n",
       "       [ 1125823,   151581,    70619],\n",
       "       [ 1126279,   150951,    70799]])"
      ]
     },
     "execution_count": 9,
     "metadata": {},
     "output_type": "execute_result"
    }
   ],
   "source": [
    "input_data = prepare_data(las, DIMENSIONS)\n",
    "input_data"
   ]
  },
  {
   "cell_type": "code",
   "execution_count": 10,
   "id": "bc88e1e6",
   "metadata": {},
   "outputs": [
    {
     "name": "stderr",
     "output_type": "stream",
     "text": [
      "[Parallel(n_jobs=5)]: Using backend ThreadingBackend with 5 concurrent workers.\n",
      "[Parallel(n_jobs=5)]: Done   2 out of   5 | elapsed:   37.8s remaining:   56.7s\n",
      "[Parallel(n_jobs=5)]: Done   5 out of   5 | elapsed:   41.0s remaining:    0.0s\n",
      "[Parallel(n_jobs=5)]: Done   5 out of   5 | elapsed:   41.0s finished\n"
     ]
    }
   ],
   "source": [
    "predicted_points = rf_loaded.predict(input_data)"
   ]
  },
  {
   "cell_type": "code",
   "execution_count": null,
   "id": "eca61f88",
   "metadata": {},
   "outputs": [],
   "source": []
  },
  {
   "cell_type": "code",
   "execution_count": 13,
   "id": "ba8c20b3",
   "metadata": {},
   "outputs": [],
   "source": [
    "# Save predicted points to new laz file\n",
    "\n",
    "def reclassify_to_new_file(source_filepath: str, new_filepath: str, classification: ndarray):\n",
    "    las = laspy.read(source_filepath)\n",
    "    las.classification = classification\n",
    "    las.write(new_filepath)\n",
    "\n",
    "def write_predicted_points_to_las(source_filepath: str, new_filepath: str, predicted_points: ndarray):\n",
    "    new_filename = new_filepath.format(f\"random_forest_{int(time.time())}\")\n",
    "    reclassify_to_new_file(source_filepath, new_filename, predicted_points)\n",
    "\n",
    "\n",
    "    \n",
    "write_predicted_points_to_las(SOURCE_FILEPATH, NEW_FILEPATH, predicted_points)"
   ]
  },
  {
   "cell_type": "code",
   "execution_count": null,
   "id": "a8a4b376",
   "metadata": {},
   "outputs": [],
   "source": []
  }
 ],
 "metadata": {
  "kernelspec": {
   "display_name": "karolina_cz",
   "language": "python",
   "name": "karolina_cz"
  },
  "language_info": {
   "codemirror_mode": {
    "name": "ipython",
    "version": 3
   },
   "file_extension": ".py",
   "mimetype": "text/x-python",
   "name": "python",
   "nbconvert_exporter": "python",
   "pygments_lexer": "ipython3",
   "version": "3.11.3"
  }
 },
 "nbformat": 4,
 "nbformat_minor": 5
}
