{
 "cells": [
  {
   "cell_type": "code",
   "execution_count": 1,
   "id": "6c5e9731",
   "metadata": {},
   "outputs": [],
   "source": [
    "# Import packages\n",
    "import laspy\n",
    "import numpy as np\n",
    "from numpy import ndarray\n",
    "from laspy import LasData\n",
    "from sklearn.cluster import KMeans"
   ]
  },
  {
   "cell_type": "code",
   "execution_count": 3,
   "id": "f8fec5a6",
   "metadata": {},
   "outputs": [],
   "source": [
    "# Constants\n",
    "SOURCE_FILEPATH = \"./data/dane.las\"\n",
    "NEW_FILEPATH = \"./result_files/{}.laz\"\n",
    "DIMENSIONS = [\"x\", \"y\", \"z\", \"intensity\", \"red\", \"green\", \"blue\"]"
   ]
  },
  {
   "cell_type": "code",
   "execution_count": 4,
   "id": "9c4b43f6",
   "metadata": {},
   "outputs": [],
   "source": [
    "# Read las file\n",
    "def read_las(filepath) -> LasData:\n",
    "    las_data = laspy.read(filepath)\n",
    "    return las_data\n",
    "\n",
    "# Prepare las data\n",
    "def prepare_data(las: LasData, dimensions: list) -> ndarray:\n",
    "    data = None\n",
    "    if len(dimensions) == 1:\n",
    "        data = np.array(las[dimensions[0]])\n",
    "    elif len(dimensions) > 1:        \n",
    "        attributes_array = [las[dim] for dim in dimensions]    \n",
    "        data = np.stack(attributes_array, -1)        \n",
    "    return data\n",
    "\n",
    "# Get dimension names\n",
    "def get_dimension_names(las: LasData):\n",
    "    return list(las.point_format.dimension_names)"
   ]
  },
  {
   "cell_type": "code",
   "execution_count": 10,
   "id": "534dcc70",
   "metadata": {},
   "outputs": [],
   "source": [
    "def classify_point_cloud(filepath: str, dimensions: list, clusters: int):\n",
    "    las = read_las(filepath)\n",
    "    data = prepare_data(las, dimensions)\n",
    "\n",
    "    kmeans = KMeans(clusters, n_init=\"auto\")  # init=\"k-means++\"\n",
    "\n",
    "    new_filename = NEW_FILEPATH.format(f\"kmeans_{''.join(dimensions)}_k{clusters}\")\n",
    "    reclassify_to_new_file(filepath, new_filename, np.array(kmeans.fit_predict(data)))\n",
    "    \n",
    "    \n",
    "def reclassify_to_new_file(source_filepath: str, new_filepath: str, classification: ndarray):\n",
    "    las = laspy.read(source_filepath)\n",
    "    las.classification = classification\n",
    "    las.write(new_filepath)"
   ]
  },
  {
   "cell_type": "code",
   "execution_count": 11,
   "id": "b6a4708d",
   "metadata": {},
   "outputs": [],
   "source": [
    "# Cluster points, reclassify and save to new laz file\n",
    "classify_point_cloud(SOURCE_FILEPATH, DIMENSIONS, 10)"
   ]
  },
  {
   "cell_type": "code",
   "execution_count": null,
   "id": "5f1d3d75",
   "metadata": {},
   "outputs": [],
   "source": []
  }
 ],
 "metadata": {
  "kernelspec": {
   "display_name": "karolina_cz",
   "language": "python",
   "name": "karolina_cz"
  },
  "language_info": {
   "codemirror_mode": {
    "name": "ipython",
    "version": 3
   },
   "file_extension": ".py",
   "mimetype": "text/x-python",
   "name": "python",
   "nbconvert_exporter": "python",
   "pygments_lexer": "ipython3",
   "version": "3.11.3"
  }
 },
 "nbformat": 4,
 "nbformat_minor": 5
}
